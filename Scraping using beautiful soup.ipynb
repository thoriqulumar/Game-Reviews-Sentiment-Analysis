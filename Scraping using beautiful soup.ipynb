{
 "cells": [
  {
   "cell_type": "code",
   "execution_count": 2,
   "metadata": {},
   "outputs": [
    {
     "name": "stderr",
     "output_type": "stream",
     "text": [
      "C:\\Users\\Thor\\anaconda3\\lib\\site-packages\\requests\\__init__.py:78: RequestsDependencyWarning: urllib3 (1.26.7) or chardet (3.0.4) doesn't match a supported version!\n",
      "  warnings.warn(\"urllib3 ({0}) or chardet ({1}) doesn't match a supported \"\n"
     ]
    }
   ],
   "source": [
    "import requests\n",
    "from bs4 import BeautifulSoup\n",
    "from selenium import webdriver\n",
    "import numpy as np\n",
    "import time\n",
    "from tqdm.notebook import tqdm"
   ]
  },
  {
   "cell_type": "markdown",
   "metadata": {},
   "source": [
    "## Scrapping Genshin Impact in Google Play Reviews"
   ]
  },
  {
   "cell_type": "code",
   "execution_count": null,
   "metadata": {},
   "outputs": [],
   "source": [
    "URL = 'https://play.google.com/store/apps/details?id=com.miHoYo.GenshinImpact&showAllReviews=true'"
   ]
  },
  {
   "cell_type": "code",
   "execution_count": null,
   "metadata": {},
   "outputs": [],
   "source": [
    "driver = webdriver.Chrome('chromedriver.exe')"
   ]
  },
  {
   "cell_type": "code",
   "execution_count": null,
   "metadata": {},
   "outputs": [],
   "source": [
    "driver.get(URL)"
   ]
  },
  {
   "cell_type": "code",
   "execution_count": null,
   "metadata": {},
   "outputs": [],
   "source": [
    "i=0\n",
    "while i<40:\n",
    "    driver.execute_script(\"window.scrollTo(0, document.body.scrollHeight);\")\n",
    "    time.sleep(2)\n",
    "    button_show_more = driver.find_elements_by_xpath(\"//body[1]/div[1]/div[4]/c-wiz[1]/div[1]/div[2]/div[1]/div[1]/main[1]/div[1]/div[1]/div[2]/div[2]/div[1]/span[1]\")\n",
    "    button_show_more.click()\n",
    "    i+=1"
   ]
  },
  {
   "cell_type": "code",
   "execution_count": null,
   "metadata": {},
   "outputs": [],
   "source": [
    "soup = BeautifulSoup(driver.page_source, 'html.parser')"
   ]
  },
  {
   "cell_type": "code",
   "execution_count": null,
   "metadata": {},
   "outputs": [],
   "source": [
    "reviews_list = []"
   ]
  },
  {
   "cell_type": "code",
   "execution_count": null,
   "metadata": {},
   "outputs": [],
   "source": [
    "soup.find('div',  {\"jscontroller\" : \"LVJlx\"}, {\"class\" : \"UD7Dzf\"}).get_text()"
   ]
  },
  {
   "cell_type": "code",
   "execution_count": null,
   "metadata": {},
   "outputs": [],
   "source": [
    "for word in soup.find_all('div',  {\"jscontroller\" : \"LVJlx\"}, {\"class\" : \"UD7Dzf\"}):\n",
    "    print(word.get_text())\n",
    "    reviews_list.append(word.get_text())"
   ]
  },
  {
   "cell_type": "code",
   "execution_count": null,
   "metadata": {},
   "outputs": [],
   "source": [
    "reviews_list[39]"
   ]
  },
  {
   "cell_type": "code",
   "execution_count": null,
   "metadata": {},
   "outputs": [],
   "source": [
    "reviews = np.array(reviews_list)"
   ]
  },
  {
   "cell_type": "code",
   "execution_count": null,
   "metadata": {},
   "outputs": [],
   "source": [
    "reviews.shape"
   ]
  },
  {
   "cell_type": "markdown",
   "metadata": {},
   "source": [
    "## Scraping Dota in Metacritics"
   ]
  },
  {
   "cell_type": "code",
   "execution_count": 3,
   "metadata": {},
   "outputs": [],
   "source": [
    "URL_META_CRITICS = \"https://www.metacritic.com/game/pc/dota-2/user-reviews?page=\"\n",
    "DEFAULT_PAGE = \"https://www.metacritic.com/game/pc/dota-2/user-reviews?page=0\"\n",
    "PAGE = 37"
   ]
  },
  {
   "cell_type": "code",
   "execution_count": 4,
   "metadata": {},
   "outputs": [
    {
     "name": "stderr",
     "output_type": "stream",
     "text": [
      "<ipython-input-4-f54c79595346>:1: DeprecationWarning: executable_path has been deprecated, please pass in a Service object\n",
      "  driver = webdriver.Chrome('chromedriver.exe')\n"
     ]
    }
   ],
   "source": [
    "driver = webdriver.Chrome('chromedriver.exe')"
   ]
  },
  {
   "cell_type": "code",
   "execution_count": 5,
   "metadata": {},
   "outputs": [],
   "source": [
    "review_list = []\n",
    "grade_list = []"
   ]
  },
  {
   "cell_type": "code",
   "execution_count": 7,
   "metadata": {},
   "outputs": [
    {
     "data": {
      "application/vnd.jupyter.widget-view+json": {
       "model_id": "793e4ea09d68447caea5059798715627",
       "version_major": 2,
       "version_minor": 0
      },
      "text/plain": [
       "HBox(children=(HTML(value=''), FloatProgress(value=0.0, max=37.0), HTML(value='')))"
      ]
     },
     "metadata": {},
     "output_type": "display_data"
    },
    {
     "name": "stdout",
     "output_type": "stream",
     "text": [
      "https://www.metacritic.com/game/pc/dota-2/user-reviews?page=0\n",
      "https://www.metacritic.com/game/pc/dota-2/user-reviews?page=1\n",
      "https://www.metacritic.com/game/pc/dota-2/user-reviews?page=2\n",
      "https://www.metacritic.com/game/pc/dota-2/user-reviews?page=3\n",
      "https://www.metacritic.com/game/pc/dota-2/user-reviews?page=4\n",
      "https://www.metacritic.com/game/pc/dota-2/user-reviews?page=5\n",
      "https://www.metacritic.com/game/pc/dota-2/user-reviews?page=6\n",
      "https://www.metacritic.com/game/pc/dota-2/user-reviews?page=7\n",
      "https://www.metacritic.com/game/pc/dota-2/user-reviews?page=8\n",
      "https://www.metacritic.com/game/pc/dota-2/user-reviews?page=9\n",
      "https://www.metacritic.com/game/pc/dota-2/user-reviews?page=10\n",
      "https://www.metacritic.com/game/pc/dota-2/user-reviews?page=11\n",
      "https://www.metacritic.com/game/pc/dota-2/user-reviews?page=12\n",
      "https://www.metacritic.com/game/pc/dota-2/user-reviews?page=13\n",
      "https://www.metacritic.com/game/pc/dota-2/user-reviews?page=14\n",
      "https://www.metacritic.com/game/pc/dota-2/user-reviews?page=15\n",
      "https://www.metacritic.com/game/pc/dota-2/user-reviews?page=16\n",
      "https://www.metacritic.com/game/pc/dota-2/user-reviews?page=17\n",
      "https://www.metacritic.com/game/pc/dota-2/user-reviews?page=18\n",
      "https://www.metacritic.com/game/pc/dota-2/user-reviews?page=19\n",
      "https://www.metacritic.com/game/pc/dota-2/user-reviews?page=20\n",
      "https://www.metacritic.com/game/pc/dota-2/user-reviews?page=21\n",
      "https://www.metacritic.com/game/pc/dota-2/user-reviews?page=22\n",
      "https://www.metacritic.com/game/pc/dota-2/user-reviews?page=23\n",
      "https://www.metacritic.com/game/pc/dota-2/user-reviews?page=24\n",
      "https://www.metacritic.com/game/pc/dota-2/user-reviews?page=25\n",
      "https://www.metacritic.com/game/pc/dota-2/user-reviews?page=26\n",
      "https://www.metacritic.com/game/pc/dota-2/user-reviews?page=27\n",
      "https://www.metacritic.com/game/pc/dota-2/user-reviews?page=28\n",
      "https://www.metacritic.com/game/pc/dota-2/user-reviews?page=29\n",
      "https://www.metacritic.com/game/pc/dota-2/user-reviews?page=30\n",
      "https://www.metacritic.com/game/pc/dota-2/user-reviews?page=31\n",
      "https://www.metacritic.com/game/pc/dota-2/user-reviews?page=32\n",
      "https://www.metacritic.com/game/pc/dota-2/user-reviews?page=33\n",
      "https://www.metacritic.com/game/pc/dota-2/user-reviews?page=34\n",
      "https://www.metacritic.com/game/pc/dota-2/user-reviews?page=35\n",
      "https://www.metacritic.com/game/pc/dota-2/user-reviews?page=36\n",
      "\n"
     ]
    }
   ],
   "source": [
    "for i in tqdm(range(PAGE)):\n",
    "    real_url = URL_META_CRITICS+str(i)\n",
    "    print(real_url)\n",
    "    driver.get(real_url)\n",
    "    soup = BeautifulSoup(driver.page_source, 'html.parser')\n",
    "    \n",
    "    list_scrap = soup.find_all('div', class_='review_content')\n",
    "    for i in range(len(list_scrap)): \n",
    "        try:\n",
    "            if list_scrap[i].find('div',class_='review_body').find('span'):\n",
    "                review = list_scrap[i].find('div',class_='review_body').find('span').text\n",
    "                review_list.append(review)\n",
    "            else:\n",
    "                review = list_scrap[i].review.find('span', class_='blurb blurb_expanded').text\n",
    "                review_list.append(review)\n",
    "        except:\n",
    "            continue\n",
    "        grade = list_scrap[i].find('div',class_='review_grade').find('div')\n",
    "        grade_list.append(grade.text)"
   ]
  },
  {
   "cell_type": "code",
   "execution_count": 31,
   "metadata": {},
   "outputs": [
    {
     "data": {
      "text/plain": [
       "((3861,), (3861,))"
      ]
     },
     "execution_count": 31,
     "metadata": {},
     "output_type": "execute_result"
    }
   ],
   "source": [
    "a = np.array(review_list)\n",
    "b = np.array(grade_list)\n",
    "a.shape, b.shape"
   ]
  },
  {
   "cell_type": "code",
   "execution_count": 35,
   "metadata": {},
   "outputs": [],
   "source": [
    "import pandas as pd"
   ]
  },
  {
   "cell_type": "code",
   "execution_count": 36,
   "metadata": {},
   "outputs": [],
   "source": [
    "data = {'review':a, 'score':b}"
   ]
  },
  {
   "cell_type": "code",
   "execution_count": 38,
   "metadata": {},
   "outputs": [],
   "source": [
    "df = pd.DataFrame(data)\n",
    "df.to_csv('dota-metacritics.csv')"
   ]
  },
  {
   "cell_type": "code",
   "execution_count": 23,
   "metadata": {},
   "outputs": [],
   "source": [
    "headers = {'User-Agent': 'Mozilla/5.0 (Macintosh; Intel Mac OS X 10_13_6) AppleWebKit/537.36 (KHTML, like Gecko) Chrome/70.0.3538.77 Safari/537.36'}"
   ]
  },
  {
   "cell_type": "code",
   "execution_count": 26,
   "metadata": {},
   "outputs": [],
   "source": [
    "response  = requests.get(DEFAULT_PAGE, headers = headers)\n",
    "soup = BeautifulSoup(response.text, 'html.parser')"
   ]
  },
  {
   "cell_type": "code",
   "execution_count": 27,
   "metadata": {},
   "outputs": [],
   "source": [
    "a = []"
   ]
  },
  {
   "cell_type": "code",
   "execution_count": 30,
   "metadata": {},
   "outputs": [
    {
     "ename": "AttributeError",
     "evalue": "'NoneType' object has no attribute 'text'",
     "output_type": "error",
     "traceback": [
      "\u001b[1;31m---------------------------------------------------------------------------\u001b[0m",
      "\u001b[1;31mAttributeError\u001b[0m                            Traceback (most recent call last)",
      "\u001b[1;32m<ipython-input-30-4e4c5e889bb3>\u001b[0m in \u001b[0;36m<module>\u001b[1;34m\u001b[0m\n\u001b[0;32m      4\u001b[0m         \u001b[1;32melse\u001b[0m\u001b[1;33m:\u001b[0m\u001b[1;33m\u001b[0m\u001b[1;33m\u001b[0m\u001b[0m\n\u001b[0;32m      5\u001b[0m             \u001b[0mr\u001b[0m \u001b[1;33m=\u001b[0m \u001b[0mreview\u001b[0m\u001b[1;33m.\u001b[0m\u001b[0mfind\u001b[0m\u001b[1;33m(\u001b[0m\u001b[1;34m'div'\u001b[0m\u001b[1;33m,\u001b[0m \u001b[0mclass_\u001b[0m\u001b[1;33m=\u001b[0m\u001b[1;34m'review_body'\u001b[0m\u001b[1;33m)\u001b[0m\u001b[1;33m.\u001b[0m\u001b[0mfind\u001b[0m\u001b[1;33m(\u001b[0m\u001b[1;34m'span'\u001b[0m\u001b[1;33m)\u001b[0m\u001b[1;33m\u001b[0m\u001b[1;33m\u001b[0m\u001b[0m\n\u001b[1;32m----> 6\u001b[1;33m             \u001b[0ma\u001b[0m\u001b[1;33m.\u001b[0m\u001b[0mappend\u001b[0m\u001b[1;33m(\u001b[0m\u001b[0mr\u001b[0m\u001b[1;33m.\u001b[0m\u001b[0mtext\u001b[0m\u001b[1;33m)\u001b[0m\u001b[1;33m\u001b[0m\u001b[1;33m\u001b[0m\u001b[0m\n\u001b[0m",
      "\u001b[1;31mAttributeError\u001b[0m: 'NoneType' object has no attribute 'text'"
     ]
    }
   ],
   "source": [
    "for review in soup.find_all('div', class_='review_content'):\n",
    "        if review.find('span', class_='blurb blurb_expanded'):\n",
    "            a.append(review.find('span', class_='blurb blurb_expanded').text)\n",
    "        else:\n",
    "            r = review.find('div', class_='review_body').find('span')\n",
    "            a.append(r.text)"
   ]
  },
  {
   "cell_type": "code",
   "execution_count": null,
   "metadata": {},
   "outputs": [],
   "source": []
  }
 ],
 "metadata": {
  "kernelspec": {
   "display_name": "Python 3",
   "language": "python",
   "name": "python3"
  },
  "language_info": {
   "codemirror_mode": {
    "name": "ipython",
    "version": 3
   },
   "file_extension": ".py",
   "mimetype": "text/x-python",
   "name": "python",
   "nbconvert_exporter": "python",
   "pygments_lexer": "ipython3",
   "version": "3.8.5"
  }
 },
 "nbformat": 4,
 "nbformat_minor": 4
}
